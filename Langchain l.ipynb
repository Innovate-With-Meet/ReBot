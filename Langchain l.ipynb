{
 "cells": [
  {
   "cell_type": "code",
   "execution_count": 6,
   "id": "208ecd17",
   "metadata": {},
   "outputs": [
    {
     "name": "stdout",
     "output_type": "stream",
     "text": [
      "Bot Said:Hello!\n"
     ]
    }
   ],
   "source": [
    "bot_template = \"BOT : {0}\"\n",
    "user_template = \"USER : {0}\"\n",
    "\n",
    "def respond(message):\n",
    "    bot_message = \"Bot Said:\" + message\n",
    "    return bot_message\n",
    "print (respond(\"Hello!\"))\n",
    "    "
   ]
  },
  {
   "cell_type": "markdown",
   "id": "01b0f674",
   "metadata": {},
   "source": [
    "dict: key-value, key2-value2\n",
    "def respond(message):\n",
    "    if message in dict:\n",
    "        return dict[message]\n",
    "    respond(\"The Name\")\n",
    "    "
   ]
  },
  {
   "cell_type": "code",
   "execution_count": 13,
   "id": "eacca492",
   "metadata": {},
   "outputs": [
    {
     "data": {
      "text/plain": [
       "'Is Echobot'"
      ]
     },
     "execution_count": 13,
     "metadata": {},
     "output_type": "execute_result"
    }
   ],
   "source": [
    "responses = {\n",
    "    \"The Name\" : \"Is Echobot\",\n",
    "    \"the weather\": \" Cold \"\n",
    "}\n",
    "\n",
    "def respond(message):\n",
    "    if message in responses:\n",
    "        return responses[message]\n",
    "respond(\"The Name\")\n"
   ]
  },
  {
   "cell_type": "code",
   "execution_count": 20,
   "id": "1240eae4",
   "metadata": {},
   "outputs": [
    {
     "data": {
      "text/plain": [
       "' Cold '"
      ]
     },
     "execution_count": 20,
     "metadata": {},
     "output_type": "execute_result"
    }
   ],
   "source": [
    "responses = {\n",
    "    \"The Name\" : \"Is Echobot\",\n",
    "    \"the weather\": \" Cold \"\n",
    "}\n",
    "\n",
    "def respond(message):\n",
    "    if message in responses:\n",
    "        return responses[message]\n",
    "\n",
    "\n",
    "def respond1(message1):\n",
    "    if message1 in responses:\n",
    "        return responses[message1]\n",
    "\n",
    "\n",
    "respond(\"The Name\")\n",
    "respond1(\"the weather\")\n"
   ]
  },
  {
   "cell_type": "code",
   "execution_count": 24,
   "id": "108a16de",
   "metadata": {},
   "outputs": [
    {
     "data": {
      "text/plain": [
       "'default message'"
      ]
     },
     "execution_count": 24,
     "metadata": {},
     "output_type": "execute_result"
    }
   ],
   "source": [
    "# Define variables\n",
    "name = \"Greg\"\n",
    "weather = \"cloudy\"\n",
    "\n",
    "# Define a dictionary with the predefined responses\n",
    "responses = {\n",
    "  \"what's your name?\": \"my name is {0}\".format(name),\n",
    "  \"what's today's weather?\": \"the weather is {0}\".format(weather),\n",
    "  \"default\": \"default message\"\n",
    "}\n",
    "\n",
    "# Return the matching response if there is one, default otherwise\n",
    "def respond(message):\n",
    "    # Check if the message is in the responses\n",
    "    if message in responses:\n",
    "        # Return the matching message\n",
    "        bot_message = responses[message]\n",
    "    else:\n",
    "        # Return the \"default\" message\n",
    "        bot_message = responses[\"default\"]\n",
    "    return bot_message\n",
    "\n",
    "respond(\"default\")"
   ]
  }
 ],
 "metadata": {
  "kernelspec": {
   "display_name": "Python 3",
   "language": "python",
   "name": "python3"
  },
  "language_info": {
   "codemirror_mode": {
    "name": "ipython",
    "version": 3
   },
   "file_extension": ".py",
   "mimetype": "text/x-python",
   "name": "python",
   "nbconvert_exporter": "python",
   "pygments_lexer": "ipython3",
   "version": "3.12.3"
  }
 },
 "nbformat": 4,
 "nbformat_minor": 5
}
